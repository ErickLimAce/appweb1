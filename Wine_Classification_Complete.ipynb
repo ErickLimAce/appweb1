{
  "cells": [
    {
      "cell_type": "markdown",
      "metadata": {
        "id": "view-in-github",
        "colab_type": "text"
      },
      "source": [
        "<a href=\"https://colab.research.google.com/github/ErickLimAce/appweb1/blob/main/Wine_Classification_Complete.ipynb\" target=\"_parent\"><img src=\"https://colab.research.google.com/assets/colab-badge.svg\" alt=\"Open In Colab\"/></a>"
      ]
    },
    {
      "cell_type": "markdown",
      "id": "06b473fd",
      "metadata": {
        "id": "06b473fd"
      },
      "source": [
        "# Clasificación con Regresión Logística - Dataset de Vinos"
      ]
    },
    {
      "cell_type": "markdown",
      "id": "47c2e392",
      "metadata": {
        "id": "47c2e392"
      },
      "source": [
        "El Challenge se soluciona usando el dataset de vinos distribuido en la semana 1 (wine)\n"
      ]
    },
    {
      "cell_type": "code",
      "execution_count": 117,
      "id": "652f06da",
      "metadata": {
        "colab": {
          "base_uri": "https://localhost:8080/",
          "height": 279
        },
        "id": "652f06da",
        "outputId": "b1669afa-d9fa-45fa-8ca0-73be7bf79c76"
      },
      "outputs": [
        {
          "output_type": "stream",
          "name": "stdout",
          "text": [
            "Drive already mounted at /content/drive; to attempt to forcibly remount, call drive.mount(\"/content/drive\", force_remount=True).\n"
          ]
        },
        {
          "output_type": "execute_result",
          "data": {
            "text/plain": [
              "   Class  Alcohol  Malic acid   Ash  Alcalinity of ash  Magnesium  \\\n",
              "0      1    13.20        1.78  2.14               11.2        100   \n",
              "1      1    13.16        2.36  2.67               18.6        101   \n",
              "2      1    14.37        1.95  2.50               16.8        113   \n",
              "3      1    13.24        2.59  2.87               21.0        118   \n",
              "4      1    14.20        1.76  2.45               15.2        112   \n",
              "\n",
              "   Total phenols  Flavanoids  Nonflavanoid phenols  Proanthocyanins  \\\n",
              "0           2.65        2.76                  0.26             1.28   \n",
              "1           2.80        3.24                  0.30             2.81   \n",
              "2           3.85        3.49                  0.24             2.18   \n",
              "3           2.80        2.69                  0.39             1.82   \n",
              "4           3.27        3.39                  0.34             1.97   \n",
              "\n",
              "   Color intensity   Hue  OD280/OD315 of diluted wines  Proline  \n",
              "0             4.38  1.05                          3.40     1050  \n",
              "1             5.68  1.03                          3.17     1185  \n",
              "2             7.80  0.86                          3.45     1480  \n",
              "3             4.32  1.04                          2.93      735  \n",
              "4             6.75  1.05                          2.85     1450  "
            ],
            "text/html": [
              "\n",
              "  <div id=\"df-efb18e4e-8a42-4c08-af42-99def8507386\" class=\"colab-df-container\">\n",
              "    <div>\n",
              "<style scoped>\n",
              "    .dataframe tbody tr th:only-of-type {\n",
              "        vertical-align: middle;\n",
              "    }\n",
              "\n",
              "    .dataframe tbody tr th {\n",
              "        vertical-align: top;\n",
              "    }\n",
              "\n",
              "    .dataframe thead th {\n",
              "        text-align: right;\n",
              "    }\n",
              "</style>\n",
              "<table border=\"1\" class=\"dataframe\">\n",
              "  <thead>\n",
              "    <tr style=\"text-align: right;\">\n",
              "      <th></th>\n",
              "      <th>Class</th>\n",
              "      <th>Alcohol</th>\n",
              "      <th>Malic acid</th>\n",
              "      <th>Ash</th>\n",
              "      <th>Alcalinity of ash</th>\n",
              "      <th>Magnesium</th>\n",
              "      <th>Total phenols</th>\n",
              "      <th>Flavanoids</th>\n",
              "      <th>Nonflavanoid phenols</th>\n",
              "      <th>Proanthocyanins</th>\n",
              "      <th>Color intensity</th>\n",
              "      <th>Hue</th>\n",
              "      <th>OD280/OD315 of diluted wines</th>\n",
              "      <th>Proline</th>\n",
              "    </tr>\n",
              "  </thead>\n",
              "  <tbody>\n",
              "    <tr>\n",
              "      <th>0</th>\n",
              "      <td>1</td>\n",
              "      <td>13.20</td>\n",
              "      <td>1.78</td>\n",
              "      <td>2.14</td>\n",
              "      <td>11.2</td>\n",
              "      <td>100</td>\n",
              "      <td>2.65</td>\n",
              "      <td>2.76</td>\n",
              "      <td>0.26</td>\n",
              "      <td>1.28</td>\n",
              "      <td>4.38</td>\n",
              "      <td>1.05</td>\n",
              "      <td>3.40</td>\n",
              "      <td>1050</td>\n",
              "    </tr>\n",
              "    <tr>\n",
              "      <th>1</th>\n",
              "      <td>1</td>\n",
              "      <td>13.16</td>\n",
              "      <td>2.36</td>\n",
              "      <td>2.67</td>\n",
              "      <td>18.6</td>\n",
              "      <td>101</td>\n",
              "      <td>2.80</td>\n",
              "      <td>3.24</td>\n",
              "      <td>0.30</td>\n",
              "      <td>2.81</td>\n",
              "      <td>5.68</td>\n",
              "      <td>1.03</td>\n",
              "      <td>3.17</td>\n",
              "      <td>1185</td>\n",
              "    </tr>\n",
              "    <tr>\n",
              "      <th>2</th>\n",
              "      <td>1</td>\n",
              "      <td>14.37</td>\n",
              "      <td>1.95</td>\n",
              "      <td>2.50</td>\n",
              "      <td>16.8</td>\n",
              "      <td>113</td>\n",
              "      <td>3.85</td>\n",
              "      <td>3.49</td>\n",
              "      <td>0.24</td>\n",
              "      <td>2.18</td>\n",
              "      <td>7.80</td>\n",
              "      <td>0.86</td>\n",
              "      <td>3.45</td>\n",
              "      <td>1480</td>\n",
              "    </tr>\n",
              "    <tr>\n",
              "      <th>3</th>\n",
              "      <td>1</td>\n",
              "      <td>13.24</td>\n",
              "      <td>2.59</td>\n",
              "      <td>2.87</td>\n",
              "      <td>21.0</td>\n",
              "      <td>118</td>\n",
              "      <td>2.80</td>\n",
              "      <td>2.69</td>\n",
              "      <td>0.39</td>\n",
              "      <td>1.82</td>\n",
              "      <td>4.32</td>\n",
              "      <td>1.04</td>\n",
              "      <td>2.93</td>\n",
              "      <td>735</td>\n",
              "    </tr>\n",
              "    <tr>\n",
              "      <th>4</th>\n",
              "      <td>1</td>\n",
              "      <td>14.20</td>\n",
              "      <td>1.76</td>\n",
              "      <td>2.45</td>\n",
              "      <td>15.2</td>\n",
              "      <td>112</td>\n",
              "      <td>3.27</td>\n",
              "      <td>3.39</td>\n",
              "      <td>0.34</td>\n",
              "      <td>1.97</td>\n",
              "      <td>6.75</td>\n",
              "      <td>1.05</td>\n",
              "      <td>2.85</td>\n",
              "      <td>1450</td>\n",
              "    </tr>\n",
              "  </tbody>\n",
              "</table>\n",
              "</div>\n",
              "    <div class=\"colab-df-buttons\">\n",
              "\n",
              "  <div class=\"colab-df-container\">\n",
              "    <button class=\"colab-df-convert\" onclick=\"convertToInteractive('df-efb18e4e-8a42-4c08-af42-99def8507386')\"\n",
              "            title=\"Convert this dataframe to an interactive table.\"\n",
              "            style=\"display:none;\">\n",
              "\n",
              "  <svg xmlns=\"http://www.w3.org/2000/svg\" height=\"24px\" viewBox=\"0 -960 960 960\">\n",
              "    <path d=\"M120-120v-720h720v720H120Zm60-500h600v-160H180v160Zm220 220h160v-160H400v160Zm0 220h160v-160H400v160ZM180-400h160v-160H180v160Zm440 0h160v-160H620v160ZM180-180h160v-160H180v160Zm440 0h160v-160H620v160Z\"/>\n",
              "  </svg>\n",
              "    </button>\n",
              "\n",
              "  <style>\n",
              "    .colab-df-container {\n",
              "      display:flex;\n",
              "      gap: 12px;\n",
              "    }\n",
              "\n",
              "    .colab-df-convert {\n",
              "      background-color: #E8F0FE;\n",
              "      border: none;\n",
              "      border-radius: 50%;\n",
              "      cursor: pointer;\n",
              "      display: none;\n",
              "      fill: #1967D2;\n",
              "      height: 32px;\n",
              "      padding: 0 0 0 0;\n",
              "      width: 32px;\n",
              "    }\n",
              "\n",
              "    .colab-df-convert:hover {\n",
              "      background-color: #E2EBFA;\n",
              "      box-shadow: 0px 1px 2px rgba(60, 64, 67, 0.3), 0px 1px 3px 1px rgba(60, 64, 67, 0.15);\n",
              "      fill: #174EA6;\n",
              "    }\n",
              "\n",
              "    .colab-df-buttons div {\n",
              "      margin-bottom: 4px;\n",
              "    }\n",
              "\n",
              "    [theme=dark] .colab-df-convert {\n",
              "      background-color: #3B4455;\n",
              "      fill: #D2E3FC;\n",
              "    }\n",
              "\n",
              "    [theme=dark] .colab-df-convert:hover {\n",
              "      background-color: #434B5C;\n",
              "      box-shadow: 0px 1px 3px 1px rgba(0, 0, 0, 0.15);\n",
              "      filter: drop-shadow(0px 1px 2px rgba(0, 0, 0, 0.3));\n",
              "      fill: #FFFFFF;\n",
              "    }\n",
              "  </style>\n",
              "\n",
              "    <script>\n",
              "      const buttonEl =\n",
              "        document.querySelector('#df-efb18e4e-8a42-4c08-af42-99def8507386 button.colab-df-convert');\n",
              "      buttonEl.style.display =\n",
              "        google.colab.kernel.accessAllowed ? 'block' : 'none';\n",
              "\n",
              "      async function convertToInteractive(key) {\n",
              "        const element = document.querySelector('#df-efb18e4e-8a42-4c08-af42-99def8507386');\n",
              "        const dataTable =\n",
              "          await google.colab.kernel.invokeFunction('convertToInteractive',\n",
              "                                                    [key], {});\n",
              "        if (!dataTable) return;\n",
              "\n",
              "        const docLinkHtml = 'Like what you see? Visit the ' +\n",
              "          '<a target=\"_blank\" href=https://colab.research.google.com/notebooks/data_table.ipynb>data table notebook</a>'\n",
              "          + ' to learn more about interactive tables.';\n",
              "        element.innerHTML = '';\n",
              "        dataTable['output_type'] = 'display_data';\n",
              "        await google.colab.output.renderOutput(dataTable, element);\n",
              "        const docLink = document.createElement('div');\n",
              "        docLink.innerHTML = docLinkHtml;\n",
              "        element.appendChild(docLink);\n",
              "      }\n",
              "    </script>\n",
              "  </div>\n",
              "\n",
              "\n",
              "    <div id=\"df-41d6d0ae-0992-4a1b-84d7-538737172dc1\">\n",
              "      <button class=\"colab-df-quickchart\" onclick=\"quickchart('df-41d6d0ae-0992-4a1b-84d7-538737172dc1')\"\n",
              "                title=\"Suggest charts\"\n",
              "                style=\"display:none;\">\n",
              "\n",
              "<svg xmlns=\"http://www.w3.org/2000/svg\" height=\"24px\"viewBox=\"0 0 24 24\"\n",
              "     width=\"24px\">\n",
              "    <g>\n",
              "        <path d=\"M19 3H5c-1.1 0-2 .9-2 2v14c0 1.1.9 2 2 2h14c1.1 0 2-.9 2-2V5c0-1.1-.9-2-2-2zM9 17H7v-7h2v7zm4 0h-2V7h2v10zm4 0h-2v-4h2v4z\"/>\n",
              "    </g>\n",
              "</svg>\n",
              "      </button>\n",
              "\n",
              "<style>\n",
              "  .colab-df-quickchart {\n",
              "      --bg-color: #E8F0FE;\n",
              "      --fill-color: #1967D2;\n",
              "      --hover-bg-color: #E2EBFA;\n",
              "      --hover-fill-color: #174EA6;\n",
              "      --disabled-fill-color: #AAA;\n",
              "      --disabled-bg-color: #DDD;\n",
              "  }\n",
              "\n",
              "  [theme=dark] .colab-df-quickchart {\n",
              "      --bg-color: #3B4455;\n",
              "      --fill-color: #D2E3FC;\n",
              "      --hover-bg-color: #434B5C;\n",
              "      --hover-fill-color: #FFFFFF;\n",
              "      --disabled-bg-color: #3B4455;\n",
              "      --disabled-fill-color: #666;\n",
              "  }\n",
              "\n",
              "  .colab-df-quickchart {\n",
              "    background-color: var(--bg-color);\n",
              "    border: none;\n",
              "    border-radius: 50%;\n",
              "    cursor: pointer;\n",
              "    display: none;\n",
              "    fill: var(--fill-color);\n",
              "    height: 32px;\n",
              "    padding: 0;\n",
              "    width: 32px;\n",
              "  }\n",
              "\n",
              "  .colab-df-quickchart:hover {\n",
              "    background-color: var(--hover-bg-color);\n",
              "    box-shadow: 0 1px 2px rgba(60, 64, 67, 0.3), 0 1px 3px 1px rgba(60, 64, 67, 0.15);\n",
              "    fill: var(--button-hover-fill-color);\n",
              "  }\n",
              "\n",
              "  .colab-df-quickchart-complete:disabled,\n",
              "  .colab-df-quickchart-complete:disabled:hover {\n",
              "    background-color: var(--disabled-bg-color);\n",
              "    fill: var(--disabled-fill-color);\n",
              "    box-shadow: none;\n",
              "  }\n",
              "\n",
              "  .colab-df-spinner {\n",
              "    border: 2px solid var(--fill-color);\n",
              "    border-color: transparent;\n",
              "    border-bottom-color: var(--fill-color);\n",
              "    animation:\n",
              "      spin 1s steps(1) infinite;\n",
              "  }\n",
              "\n",
              "  @keyframes spin {\n",
              "    0% {\n",
              "      border-color: transparent;\n",
              "      border-bottom-color: var(--fill-color);\n",
              "      border-left-color: var(--fill-color);\n",
              "    }\n",
              "    20% {\n",
              "      border-color: transparent;\n",
              "      border-left-color: var(--fill-color);\n",
              "      border-top-color: var(--fill-color);\n",
              "    }\n",
              "    30% {\n",
              "      border-color: transparent;\n",
              "      border-left-color: var(--fill-color);\n",
              "      border-top-color: var(--fill-color);\n",
              "      border-right-color: var(--fill-color);\n",
              "    }\n",
              "    40% {\n",
              "      border-color: transparent;\n",
              "      border-right-color: var(--fill-color);\n",
              "      border-top-color: var(--fill-color);\n",
              "    }\n",
              "    60% {\n",
              "      border-color: transparent;\n",
              "      border-right-color: var(--fill-color);\n",
              "    }\n",
              "    80% {\n",
              "      border-color: transparent;\n",
              "      border-right-color: var(--fill-color);\n",
              "      border-bottom-color: var(--fill-color);\n",
              "    }\n",
              "    90% {\n",
              "      border-color: transparent;\n",
              "      border-bottom-color: var(--fill-color);\n",
              "    }\n",
              "  }\n",
              "</style>\n",
              "\n",
              "      <script>\n",
              "        async function quickchart(key) {\n",
              "          const quickchartButtonEl =\n",
              "            document.querySelector('#' + key + ' button');\n",
              "          quickchartButtonEl.disabled = true;  // To prevent multiple clicks.\n",
              "          quickchartButtonEl.classList.add('colab-df-spinner');\n",
              "          try {\n",
              "            const charts = await google.colab.kernel.invokeFunction(\n",
              "                'suggestCharts', [key], {});\n",
              "          } catch (error) {\n",
              "            console.error('Error during call to suggestCharts:', error);\n",
              "          }\n",
              "          quickchartButtonEl.classList.remove('colab-df-spinner');\n",
              "          quickchartButtonEl.classList.add('colab-df-quickchart-complete');\n",
              "        }\n",
              "        (() => {\n",
              "          let quickchartButtonEl =\n",
              "            document.querySelector('#df-41d6d0ae-0992-4a1b-84d7-538737172dc1 button');\n",
              "          quickchartButtonEl.style.display =\n",
              "            google.colab.kernel.accessAllowed ? 'block' : 'none';\n",
              "        })();\n",
              "      </script>\n",
              "    </div>\n",
              "\n",
              "    </div>\n",
              "  </div>\n"
            ],
            "application/vnd.google.colaboratory.intrinsic+json": {
              "type": "dataframe",
              "variable_name": "data",
              "summary": "{\n  \"name\": \"data\",\n  \"rows\": 177,\n  \"fields\": [\n    {\n      \"column\": \"Class\",\n      \"properties\": {\n        \"dtype\": \"number\",\n        \"std\": 0,\n        \"min\": 1,\n        \"max\": 3,\n        \"num_unique_values\": 3,\n        \"samples\": [\n          1,\n          2,\n          3\n        ],\n        \"semantic_type\": \"\",\n        \"description\": \"\"\n      }\n    },\n    {\n      \"column\": \"Alcohol\",\n      \"properties\": {\n        \"dtype\": \"number\",\n        \"std\": 0.8088084424378916,\n        \"min\": 11.03,\n        \"max\": 14.83,\n        \"num_unique_values\": 125,\n        \"samples\": [\n          13.64,\n          13.94,\n          14.22\n        ],\n        \"semantic_type\": \"\",\n        \"description\": \"\"\n      }\n    },\n    {\n      \"column\": \"Malic acid\",\n      \"properties\": {\n        \"dtype\": \"number\",\n        \"std\": 1.119314415116238,\n        \"min\": 0.74,\n        \"max\": 5.8,\n        \"num_unique_values\": 133,\n        \"samples\": [\n          1.21,\n          2.83,\n          1.65\n        ],\n        \"semantic_type\": \"\",\n        \"description\": \"\"\n      }\n    },\n    {\n      \"column\": \"Ash\",\n      \"properties\": {\n        \"dtype\": \"number\",\n        \"std\": 0.2750804383454942,\n        \"min\": 1.36,\n        \"max\": 3.23,\n        \"num_unique_values\": 78,\n        \"samples\": [\n          2.44,\n          2.14,\n          2.4\n        ],\n        \"semantic_type\": \"\",\n        \"description\": \"\"\n      }\n    },\n    {\n      \"column\": \"Alcalinity of ash\",\n      \"properties\": {\n        \"dtype\": \"number\",\n        \"std\": 3.336071070121235,\n        \"min\": 10.6,\n        \"max\": 30.0,\n        \"num_unique_values\": 62,\n        \"samples\": [\n          23.6,\n          28.5,\n          11.2\n        ],\n        \"semantic_type\": \"\",\n        \"description\": \"\"\n      }\n    },\n    {\n      \"column\": \"Magnesium\",\n      \"properties\": {\n        \"dtype\": \"number\",\n        \"std\": 14,\n        \"min\": 70,\n        \"max\": 162,\n        \"num_unique_values\": 52,\n        \"samples\": [\n          124,\n          99,\n          134\n        ],\n        \"semantic_type\": \"\",\n        \"description\": \"\"\n      }\n    },\n    {\n      \"column\": \"Total phenols\",\n      \"properties\": {\n        \"dtype\": \"number\",\n        \"std\": 0.6264650830308146,\n        \"min\": 0.98,\n        \"max\": 3.88,\n        \"num_unique_values\": 97,\n        \"samples\": [\n          1.68,\n          2.11,\n          1.35\n        ],\n        \"semantic_type\": \"\",\n        \"description\": \"\"\n      }\n    },\n    {\n      \"column\": \"Flavanoids\",\n      \"properties\": {\n        \"dtype\": \"number\",\n        \"std\": 0.9986576153088098,\n        \"min\": 0.34,\n        \"max\": 5.08,\n        \"num_unique_values\": 131,\n        \"samples\": [\n          3.18,\n          3.54,\n          2.41\n        ],\n        \"semantic_type\": \"\",\n        \"description\": \"\"\n      }\n    },\n    {\n      \"column\": \"Nonflavanoid phenols\",\n      \"properties\": {\n        \"dtype\": \"number\",\n        \"std\": 0.12465293369095114,\n        \"min\": 0.13,\n        \"max\": 0.66,\n        \"num_unique_values\": 39,\n        \"samples\": [\n          0.58,\n          0.41,\n          0.34\n        ],\n        \"semantic_type\": \"\",\n        \"description\": \"\"\n      }\n    },\n    {\n      \"column\": \"Proanthocyanins\",\n      \"properties\": {\n        \"dtype\": \"number\",\n        \"std\": 0.5715447197884235,\n        \"min\": 0.41,\n        \"max\": 3.58,\n        \"num_unique_values\": 101,\n        \"samples\": [\n          0.75,\n          1.77,\n          1.42\n        ],\n        \"semantic_type\": \"\",\n        \"description\": \"\"\n      }\n    },\n    {\n      \"column\": \"Color intensity\",\n      \"properties\": {\n        \"dtype\": \"number\",\n        \"std\": 2.3244464252863977,\n        \"min\": 1.28,\n        \"max\": 13.0,\n        \"num_unique_values\": 131,\n        \"samples\": [\n          2.95,\n          5.24,\n          5.65\n        ],\n        \"semantic_type\": \"\",\n        \"description\": \"\"\n      }\n    },\n    {\n      \"column\": \"Hue\",\n      \"properties\": {\n        \"dtype\": \"number\",\n        \"std\": 0.22913504539741586,\n        \"min\": 0.48,\n        \"max\": 1.71,\n        \"num_unique_values\": 78,\n        \"samples\": [\n          1.22,\n          1.05,\n          1.45\n        ],\n        \"semantic_type\": \"\",\n        \"description\": \"\"\n      }\n    },\n    {\n      \"column\": \"OD280/OD315 of diluted wines\",\n      \"properties\": {\n        \"dtype\": \"number\",\n        \"std\": 0.7051028967590306,\n        \"min\": 1.27,\n        \"max\": 4.0,\n        \"num_unique_values\": 121,\n        \"samples\": [\n          1.82,\n          2.46,\n          2.85\n        ],\n        \"semantic_type\": \"\",\n        \"description\": \"\"\n      }\n    },\n    {\n      \"column\": \"Proline\",\n      \"properties\": {\n        \"dtype\": \"number\",\n        \"std\": 314,\n        \"min\": 278,\n        \"max\": 1680,\n        \"num_unique_values\": 121,\n        \"samples\": [\n          1375,\n          1270,\n          1450\n        ],\n        \"semantic_type\": \"\",\n        \"description\": \"\"\n      }\n    }\n  ]\n}"
            }
          },
          "metadata": {},
          "execution_count": 117
        }
      ],
      "source": [
        "from google.colab import drive\n",
        "import pandas as pd\n",
        "from sklearn.linear_model import LogisticRegression\n",
        "from sklearn.model_selection import train_test_split\n",
        "from sklearn.preprocessing import PolynomialFeatures\n",
        "from sklearn.metrics import confusion_matrix, accuracy_score, precision_score, recall_score, f1_score\n",
        "import seaborn as sns\n",
        "import matplotlib.pyplot as plt\n",
        "import numpy as np\n",
        "\n",
        "#Me salia un warning acerca de la versión de sklearn\n",
        "import warnings\n",
        "warnings.filterwarnings(\"ignore\", category=FutureWarning, module='sklearn')\n",
        "\n",
        "# Cargar el dataset\n",
        "drive.mount('/content/drive')\n",
        "data = pd.read_csv(\"/content/drive/MyDrive/IA/wine.data\")\n",
        "winenames = ['Class','Alcohol', 'Malic acid', 'Ash', 'Alcalinity of ash', 'Magnesium', 'Total phenols', 'Flavanoids', 'Nonflavanoid phenols', 'Proanthocyanins', 'Color intensity', 'Hue', 'OD280/OD315 of diluted wines', 'Proline']\n",
        "data.columns = winenames\n",
        "#df = pd.read_csv(\"/content/drive/MyDrive/IA/wine.csv\")\n",
        "data.head()\n"
      ]
    },
    {
      "cell_type": "markdown",
      "id": "ec1a121f",
      "metadata": {
        "id": "ec1a121f"
      },
      "source": [
        "## El dataset se divide en entrenamiento y prueba"
      ]
    },
    {
      "cell_type": "code",
      "execution_count": 118,
      "id": "d42518d2",
      "metadata": {
        "id": "d42518d2"
      },
      "outputs": [],
      "source": [
        "#variable dependiente target\n",
        "X = data.drop(\"Class\", axis=1)\n",
        "y = data[\"Class\"]\n",
        "#print(df['Class'].value_counts())\n",
        "#entrenamiento y prueba(30), stratify para desbalance\n",
        "X_train, X_test, y_train, y_test = train_test_split(X, y, test_size=0.3, stratify=y, random_state=None)\n"
      ]
    },
    {
      "cell_type": "markdown",
      "id": "bd773665",
      "metadata": {
        "id": "bd773665"
      },
      "source": [
        "# Se desarrolla un modelo de regresión logística que utilice una característica que el alumno considere relevante, no relevante y la union\n",
        "## Relevante Flavanoids(esencial para la estructura, complejidad y capacidad de envejecimiento del vino)\n",
        "## No Relevante Ash(No afecta directamente el sabor)"
      ]
    },
    {
      "cell_type": "code",
      "execution_count": 119,
      "id": "344c5c60",
      "metadata": {
        "id": "344c5c60"
      },
      "outputs": [],
      "source": [
        "X_relevant = X_train[[\"Flavanoids\"]]\n",
        "X_not_relevant = X_train[[\"Ash\"]]\n",
        "X_both = X_train[[\"Flavanoids\", \"Ash\"]]\n",
        "y_train = y_train\n"
      ]
    },
    {
      "cell_type": "markdown",
      "id": "d6847e17",
      "metadata": {
        "id": "d6847e17"
      },
      "source": [
        "## Función para entrenar y evaluar modelos"
      ]
    },
    {
      "cell_type": "code",
      "execution_count": 163,
      "id": "e6f2130e",
      "metadata": {
        "id": "e6f2130e"
      },
      "outputs": [],
      "source": [
        "results = {}\n",
        "\n",
        "def train_and_evaluate(X_train, y_train, X_test, y_test, label):\n",
        "    model = LogisticRegression(penalty= 'l2', multi_class='auto', solver= 'lbfgs',max_iter=1000, random_state=None)\n",
        "    model.fit(X_train, y_train)\n",
        "    y_pred = model.predict(X_test)\n",
        "    cm = confusion_matrix(y_test, y_pred,labels=[1, 2, 3] ) #labels=[1, 2, 3]\n",
        "    acc = accuracy_score(y_test, y_pred)\n",
        "    pre = precision_score(y_test, y_pred, average='weighted',zero_division=0) #zero_division=0 por warning\n",
        "    re = recall_score(y_test, y_pred, average='weighted')\n",
        "    f1 = f1_score(y_test, y_pred, average='weighted')\n",
        "\n",
        "    results[label] = {\"cm\": cm, \"accuracy\": acc, \"precision\": pre,\"recall\": re,\"f1_score\": f1, \"model\": model}\n",
        "    return None\n"
      ]
    },
    {
      "cell_type": "markdown",
      "id": "f791f017",
      "metadata": {
        "id": "f791f017"
      },
      "source": [
        "## Entrenamiento de modelos\n",
        "Relevante, no relevante, ambos y ambos+cuadrado\n",
        "\n"
      ]
    },
    {
      "cell_type": "code",
      "execution_count": 164,
      "id": "c9398796",
      "metadata": {
        "id": "c9398796"
      },
      "outputs": [],
      "source": [
        "X_test_relevant = X_test[[\"Flavanoids\"]]\n",
        "X_test_not_relevant = X_test[[\"Ash\"]]\n",
        "X_test_both = X_test[[\"Flavanoids\", \"Ash\"]]\n",
        "\n",
        "train_and_evaluate(X_relevant, y_train, X_test_relevant, y_test, \"Relevante (Flavanoids)\")\n",
        "train_and_evaluate(X_not_relevant, y_train, X_test_not_relevant, y_test, \"No relevante (Ash)\")\n",
        "train_and_evaluate(X_both, y_train, X_test_both, y_test, \"Ambas\")\n",
        "#de scikit-learn PolynomialFeature para cuadrados\n",
        "poly = PolynomialFeatures(degree=2, include_bias=False)\n",
        "X_train_poly = poly.fit_transform(X_both)\n",
        "X_test_poly = poly.transform(X_test_both)\n",
        "train_and_evaluate(X_train_poly, y_train, X_test_poly, y_test, \"Ambas + cuadrados\")\n"
      ]
    },
    {
      "cell_type": "markdown",
      "id": "01e968e6",
      "metadata": {
        "id": "01e968e6"
      },
      "source": [
        "## Visualización de matrices de confusión"
      ]
    },
    {
      "cell_type": "code",
      "execution_count": 167,
      "id": "571481e4",
      "metadata": {
        "colab": {
          "base_uri": "https://localhost:8080/",
          "height": 1000
        },
        "id": "571481e4",
        "outputId": "7f3b0967-bf90-4e9b-e92d-ebb56d060a62"
      },
      "outputs": [
        {
          "output_type": "display_data",
          "data": {
            "text/plain": [
              "<Figure size 1200x1000 with 8 Axes>"
            ],
            "image/png": "[encoded data removed]"
          },
          "metadata": {}
        }
      ],
      "source": [
        "fig, axes = plt.subplots(2, 2, figsize=(12, 10))\n",
        "axes = axes.ravel()\n",
        "for idx, (title, data) in enumerate(results.items()):\n",
        "    sns.heatmap(data[\"cm\"], annot=True, fmt='d', cmap='Blues', ax=axes[idx],\n",
        "                xticklabels=[1, 2, 3], yticklabels=[1, 2, 3])\n",
        "    axes[idx].set_title(f\"{title} (Accuracy: {data['accuracy']:.2f}, F1 Score: {data['f1_score']:.2f})\") #f1=pr y re\n",
        "    axes[idx].set_xlabel(\"Prediccion\")\n",
        "    axes[idx].set_ylabel(\"Real\")\n",
        "plt.tight_layout()\n",
        "plt.show()\n"
      ]
    },
    {
      "cell_type": "markdown",
      "id": "b6ad5f83",
      "metadata": {
        "id": "b6ad5f83"
      },
      "source": [
        "## Comparación de resultados"
      ]
    },
    {
      "source": [
        "for label, data in results.items():\n",
        "    print(f\"{label}\")\n",
        "    for metric, value in data.items():\n",
        "        if metric not in [\"model\", \"cm\"]: # QUita model y cm\n",
        "            print(f\"{metric}: {value:.4f}\" if isinstance(value, float) else f\"{metric}: {value}\")\n",
        "    print(\"---------------------\")"
      ],
      "cell_type": "code",
      "metadata": {
        "colab": {
          "base_uri": "https://localhost:8080/"
        },
        "id": "KElkj5NI_V1n",
        "outputId": "e5d572d5-b974-4195-ad39-53011cec76d7"
      },
      "id": "KElkj5NI_V1n",
      "execution_count": 139,
      "outputs": [
        {
          "output_type": "stream",
          "name": "stdout",
          "text": [
            "Relevante (Flavanoids)\n",
            "acc: 0.8148\n",
            "precision: 0.8125\n",
            "recall: 0.8148\n",
            "f1_score: 0.8117\n",
            "---------------------\n",
            "No relevante (Ash)\n",
            "acc: 0.5185\n",
            "precision: 0.3889\n",
            "recall: 0.5185\n",
            "f1_score: 0.4381\n",
            "---------------------\n",
            "Ambas\n",
            "acc: 0.8519\n",
            "precision: 0.8509\n",
            "recall: 0.8519\n",
            "f1_score: 0.8496\n",
            "---------------------\n",
            "Ambas + cuadrados\n",
            "acc: 0.8704\n",
            "precision: 0.8721\n",
            "recall: 0.8704\n",
            "f1_score: 0.8681\n",
            "---------------------\n"
          ]
        }
      ]
    },
    {
      "cell_type": "markdown",
      "id": "442533b1",
      "metadata": {
        "id": "442533b1"
      },
      "source": [
        "## Selección del mejor modelo"
      ]
    },
    {
      "cell_type": "code",
      "execution_count": 169,
      "id": "a5f802f0",
      "metadata": {
        "colab": {
          "base_uri": "https://localhost:8080/"
        },
        "id": "a5f802f0",
        "outputId": "2845a3ab-662c-4d45-d077-a18c6fbbb9e0"
      },
      "outputs": [
        {
          "output_type": "stream",
          "name": "stdout",
          "text": [
            "Mejor modelo: Ambas + cuadrados con accuracy de 0.87\n"
          ]
        }
      ],
      "source": [
        "best_model = max(results.items(), key=lambda x: x[1][\"accuracy\"])\n",
        "print(f\"Mejor modelo: {best_model[0]} con accuracy de {best_model[1]['accuracy']:.2f}\")\n"
      ]
    },
    {
      "cell_type": "markdown",
      "id": "74527601",
      "metadata": {
        "id": "74527601"
      },
      "source": [
        "## Validación en entrenamiento y prueba"
      ]
    },
    {
      "cell_type": "code",
      "execution_count": 103,
      "id": "5af0a57c",
      "metadata": {
        "colab": {
          "base_uri": "https://localhost:8080/"
        },
        "id": "5af0a57c",
        "outputId": "2842cd8f-15ec-4181-91d1-fb0cd56c5f79"
      },
      "outputs": [
        {
          "output_type": "stream",
          "name": "stdout",
          "text": [
            "Accuracy en entrenamiento: 0.8130081300813008\n",
            "Accuracy en prueba: 0.7962962962962963\n"
          ]
        }
      ],
      "source": [
        "model = best_model[1][\"model\"]\n",
        "if \"cuadrados\" in best_model[0].lower():\n",
        "    xtrain = X_train_poly\n",
        "    xtest = X_test_poly\n",
        "elif \"ambas\" in best_model[0].lower():\n",
        "    xtrain = X_both\n",
        "    xtest = X_test_both\n",
        "elif \"no relevante\" in best_model[0].lower():\n",
        "    xtrain = X_not_relevant\n",
        "    xtest = X_test_not_relevant\n",
        "else:\n",
        "    xtrain = X_relevant\n",
        "    xtest = X_test_relevant\n",
        "\n",
        "print(\"Accuracy en entrenamiento:\", accuracy_score(y_train, model.predict(xtrain)))\n",
        "print(\"Accuracy en prueba:\", accuracy_score(y_test, model.predict(xtest)))\n"
      ]
    },
    {
      "cell_type": "markdown",
      "id": "9f4163f3",
      "metadata": {
        "id": "9f4163f3"
      },
      "source": [
        "## Conclusión"
      ]
    },
    {
      "cell_type": "markdown",
      "id": "b1266e08",
      "metadata": {
        "id": "b1266e08"
      },
      "source": [
        "\n",
        "El modelo si que resultó útil para clasificar vinos, realmente fue porque busque características relevantes como lo son Flavanoids.\n",
        "Aunque Ash sea \"irrelevante\", puede contener pequeñas señales útiles que complementan a Flavanoids.Pude ver que incluso variables poco relevantes pueden aportar información marginal a la hora de realizar este analisis y si a esto le sumas la unión.\n",
        "Las matrices de confusión mostraron una mejora clara al aumentar la complejidad del modelo, la capacidad para capturar relaciones entre las características y las clases aumentó un 6%."
      ]
    }
  ],
  "metadata": {
    "colab": {
      "provenance": [],
      "include_colab_link": true
    },
    "language_info": {
      "name": "python"
    },
    "kernelspec": {
      "name": "python3",
      "display_name": "Python 3"
    }
  },
  "nbformat": 4,
  "nbformat_minor": 5
}